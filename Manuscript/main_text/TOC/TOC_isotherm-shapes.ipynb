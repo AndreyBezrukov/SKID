{
 "cells": [
  {
   "cell_type": "code",
   "execution_count": 3,
   "id": "989f04c0",
   "metadata": {},
   "outputs": [],
   "source": [
    "# loading libraries\n",
    "import numpy  as np                \n",
    "import pandas as pd\n",
    "import matplotlib.pyplot as plt   "
   ]
  },
  {
   "cell_type": "code",
   "execution_count": 4,
   "id": "4ce4695b",
   "metadata": {
    "scrolled": false
   },
   "outputs": [
    {
     "name": "stderr",
     "output_type": "stream",
     "text": [
      "C:\\Users\\Andrey.Bezrukov\\AppData\\Local\\Continuum\\anaconda3\\lib\\site-packages\\ipykernel_launcher.py:34: UserWarning: This figure was using constrained_layout, but that is incompatible with subplots_adjust and/or tight_layout; disabling constrained_layout.\n"
     ]
    },
    {
     "data": {
      "image/png": "[encoded data removed]",
      "text/plain": [
       "<Figure size 350x220 with 6 Axes>"
      ]
     },
     "metadata": {},
     "output_type": "display_data"
    }
   ],
   "source": [
    "x = [0, 35, 36, 66, 67, 100]\n",
    "y = [0, 0.01, 0.49, 0.50, 0.99, 1.00]\n",
    "isotherms={'A':{'x':[0, 100], 'y':[0,  1.00]},\n",
    "           'D':{'x':np.linspace(-0, 100, 100), 'y':np.divide(1, 1+np.exp(-0.7*(np.linspace(-0, 100, 100)+-50)))},\n",
    "           'B':{'x':np.linspace(-0, 100, 100), 'y':np.divide(0.5*np.linspace(-0, 100, 100),1+0.5*np.linspace(-0, 100, 100))},\n",
    "           'C':{'x':np.linspace(-0, 100, 100), 'y':np.divide(1, 1+np.exp(-0.1*(np.linspace(-0, 100, 100)+-50)))},\n",
    "           'E':{'x':np.linspace(-0, 100, 100), 'y':0.5*np.divide(1, 1+np.exp(-0.7*(np.linspace(-0, 100, 100)-33)))+0.5*np.divide(1, 1+np.exp(-0.7*(np.linspace(-0, 100, 100)-66)))},\n",
    "           'F':{'x':np.linspace(-0, 100, 100), 'y':2*np.divide(1, 1+np.exp(-0.1*(np.linspace(-0, 100, 100)+-100)))},\n",
    "             \n",
    "}\n",
    "\n",
    "\n",
    "#### plot\n",
    "\n",
    "fig, axs = plt.subplot_mosaic(    \n",
    "    \"\"\"\n",
    "    ABC\n",
    "    DEF\n",
    "    \"\"\"\n",
    "                              ,figsize=(3.5, 2.2), constrained_layout=True)\n",
    "\n",
    "for i in ['A', 'B', 'C', 'D', 'E', 'F']:\n",
    "    \n",
    "    #### plot\n",
    "    axs[i].plot( isotherms[i]['x'],  isotherms[i]['y'], c='green')\n",
    "    axs[i].set_ylabel('Uptake')\n",
    "    axs[i].set_xlabel('Pressure')\n",
    "\n",
    "\n",
    "    axs[i].set_yticks([])\n",
    "    axs[i].set_xticks([])\n",
    "plt.tight_layout()\n",
    "plt.savefig('Figure1_isotherm-shapes.png', dpi=1200, transparent=True)\n"
   ]
  },
  {
   "cell_type": "code",
   "execution_count": null,
   "id": "b16cf169",
   "metadata": {},
   "outputs": [],
   "source": []
  },
  {
   "cell_type": "code",
   "execution_count": null,
   "id": "8fef6ef5",
   "metadata": {},
   "outputs": [],
   "source": []
  }
 ],
 "metadata": {
  "kernelspec": {
   "display_name": "Python 3 (ipykernel)",
   "language": "python",
   "name": "python3"
  },
  "language_info": {
   "codemirror_mode": {
    "name": "ipython",
    "version": 3
   },
   "file_extension": ".py",
   "mimetype": "text/x-python",
   "name": "python",
   "nbconvert_exporter": "python",
   "pygments_lexer": "ipython3",
   "version": "3.7.3"
  }
 },
 "nbformat": 4,
 "nbformat_minor": 5
}
